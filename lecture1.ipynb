{
 "cells": [
  {
   "cell_type": "markdown",
   "metadata": {
    "colab_type": "text",
    "id": "e4b1iEVqjUEn"
   },
   "source": [
    "# 排序算法"
   ]
  },
  {
   "cell_type": "markdown",
   "metadata": {
    "colab_type": "text",
    "id": "KoJf4BYLjreT"
   },
   "source": [
    "## 问题定义\n",
    "\n",
    "**Input** 一个包含$n$个数字的序列 $s=<a_1, a_2, a_3, ..., a_n>$.\n",
    "\n",
    "**Output**原序列$s$的其中一个排列(permutation)$s'=<a_1', a_2', a_3', ..., a_n'>$, 使得$a_1' \\leq a_2' \\leq ... \\leq a_n'$."
   ]
  },
  {
   "cell_type": "markdown",
   "metadata": {
    "colab_type": "text",
    "id": "1VT63sL0tD63"
   },
   "source": [
    "## Heap Sort 堆排序\n",
    "\n",
    "时间复杂度: $O(n log n)$\n",
    "\n",
    "借助了数据结构 \"堆 (Heap)\", 所以在将堆排序之前我们需要先了解**堆**的一些基本性质."
   ]
  },
  {
   "cell_type": "markdown",
   "metadata": {
    "colab_type": "text",
    "id": "gPg7NOcduRGo"
   },
   "source": [
    "### 堆\n",
    "\n",
    "堆(二叉堆 binary heap) 是一种用**近似**完全二叉树来表示的数据结构 (*完全二叉树的意思为除了最底层, 其余层所有节点都有左右两个子节点*).\n",
    "\n",
    "而堆也可以用数组来存储, 其中堆的根节点为Heap[1]. \n",
    "\n",
    "![堆的表示](http://users.cecs.anu.edu.au/~Alistair.Rendell/Teaching/apac_comp3600/module2/images/Heaps_HeapStructure.png)\n",
    "\n",
    "对于堆中的某个节点$i$, 计算它的父节点和左右节点可以使用以下方法:\n",
    "\n",
    "$parent(i)=floor({i \\over 2})$\n",
    "\n",
    "$left(i)=2i$\n",
    "\n",
    "$right(i)=2i+1$\n",
    "\n",
    "堆分为两种: **最大堆**和**最小堆**. 对于最大堆来说, 它的特性为:\n",
    "\n",
    "任意节点$i \\neq 1$, 有$Heap[parent(i)] \\geq Heap[i]$. 所以最大堆中最大元素存放在根节点. \n",
    "\n",
    "最小堆与最大堆相反, 它的特性为:\n",
    "\n",
    "任意节点$i \\neq 1$, 有$Heap[parent(i)] \\leq Heap[i]$. 所以最小堆中最小元素存放在根节点. \n",
    "\n"
   ]
  },
  {
   "cell_type": "code",
   "execution_count": 1,
   "metadata": {},
   "outputs": [],
   "source": [
    "def left(i):\n",
    "    return i * 2\n",
    "\n",
    "def right(i):\n",
    "    return i * 2 + 1\n",
    "\n",
    "def parent(i):\n",
    "    return int(i / 2)"
   ]
  },
  {
   "cell_type": "markdown",
   "metadata": {},
   "source": [
    "对于堆排序, 我们使用最大堆. 由二叉树的定义易知堆的$height=\\Theta(log n)$\n",
    "\n",
    "下面定义堆的几种操作:"
   ]
  },
  {
   "cell_type": "markdown",
   "metadata": {},
   "source": [
    "### Max-heapify (Sink)\n",
    "\n",
    "该操作用于维护最大堆的性质, 它的输入是一个数组$A$和一个下标$i$. 当它被调用时, 假设以$i$节点的两个子节点为根的两棵子树已经满足最大堆的性质, 而节点$i$的值A\\[i\\]有可能小于它子节点的值, 该情况不满足最大堆的定义. 所以在max-heapify操作中, A\\[i\\]会往下**下沉**, 完成操作后以$i$为根节点的子树将满足最大堆的性质. 我们将这个操作起名为下沉 (sink)."
   ]
  },
  {
   "cell_type": "markdown",
   "metadata": {},
   "source": [
    "**举例** sink(a, 2)的过程模拟\n",
    "![过程](https://ethanstorage.oss-cn-hangzhou.aliyuncs.com/heapify.png?Expires=1526442200&OSSAccessKeyId=LTAIDJBobPyq7D2H&Signature=k3ptFBzxg71GH7AtoOFVrnoT%2Fc8%3D)"
   ]
  },
  {
   "cell_type": "code",
   "execution_count": 8,
   "metadata": {},
   "outputs": [
    {
     "name": "stdout",
     "output_type": "stream",
     "text": [
      "[0, 16, 14, 10, 8, 7, 9, 3, 2, 4, 1]\n"
     ]
    }
   ],
   "source": [
    "def sink(array, i, heap_size):\n",
    "    l, r = left(i), right(i)\n",
    "    largest = i\n",
    "    if l <= heap_size and array[l] > array[largest]:\n",
    "        largest = l\n",
    "    if r <= heap_size and array[r] > array[largest]:\n",
    "        largest = r\n",
    "    if largest == i:\n",
    "        return \n",
    "    array[i], array[largest] = array[largest], array[i]\n",
    "    sink(array, largest, heap_size)\n",
    "\n",
    "array = [0, 16, 4, 10, 14, 7, 9, 3, 2, 8, 1]\n",
    "sink(array, 2, len(array) - 1)\n",
    "print(array)"
   ]
  },
  {
   "cell_type": "markdown",
   "metadata": {},
   "source": [
    "#### Sink操作的时间复杂度分析\n",
    "\n",
    "1. 在判断节点$i$与其两个子节点的关系并且交换位置的步骤复杂度为$\\Theta(1)$\n",
    "2. 在递归调用某一个子节点时, 假设以$i$为根节点的树共有$n$个节点, 那么以其子节点为根的子树至多有$2n\\over 3$个节点\n",
    "3. 只有一次递归调用\n",
    "\n",
    "综上, 我们可以写出Sink的$T(n)$如下:\n",
    "\n",
    "$T(n) \\leq T({2n \\over 3}) + O(1)$\n",
    "\n",
    "运用Master Theorem, 得出a=1, b=${3 \\over 2}=1.5$, d=0. \n",
    "\n",
    "$$\n",
    "T(n)=\n",
    "\\begin{cases}\n",
    "O(n^dlogn)& ,\\text{if } a=b^d\\\\\n",
    "O(n^d)& ,\\text{if } a < b^d\\\\\n",
    "O(n^{log_ba})& ,\\text{if } a > b^d\n",
    "\\end{cases}\n",
    "$$\n",
    "\n",
    "$b^d=1 = a$, 属于case 1, 所以复杂度为$O(logn)$"
   ]
  },
  {
   "cell_type": "markdown",
   "metadata": {},
   "source": [
    "### Build heap\n",
    "\n",
    "建堆的过程非常容易, 只需反复调用Sink操作即可实现. 通过分析我们知道假设数组$A$长度为$n$, 那么$A[n/2+1...n]$都是叶节点, 即它们都是长度为1的堆, 我们只需要关心前半部分也同样满足堆的性质即可."
   ]
  },
  {
   "cell_type": "code",
   "execution_count": 10,
   "metadata": {},
   "outputs": [
    {
     "name": "stdout",
     "output_type": "stream",
     "text": [
      "[0, 14, 8, 10, 6, 7, 9, 3, 2, 4, 1]\n"
     ]
    }
   ],
   "source": [
    "def build_heap(array):\n",
    "    heap_size = len(array) - 1\n",
    "    for i in range(int(heap_size / 2), 0, -1):\n",
    "        sink(array, i, heap_size)\n",
    "\n",
    "array = [0, 6, 4, 10, 14, 7, 9, 3, 2, 8, 1]\n",
    "build_heap(array)\n",
    "print(array)"
   ]
  },
  {
   "cell_type": "markdown",
   "metadata": {},
   "source": [
    "***思考*** 如何证明该操作的正确性?"
   ]
  },
  {
   "cell_type": "markdown",
   "metadata": {},
   "source": [
    "#### Build heap的时间复杂度分析 \\[重点\\]\n",
    "\n",
    "由前文可得到每一次Sink操作消耗$O(log n)$的时间, 并且build-heap进行了${n \\over 2}=O(n)$次调用, 所以复杂度为$O(logn) \\times O(n) = O(nlogn)$.\n",
    "\n",
    "然而这是一个很松弛的渐进上界, 因为当对很底层的节点作sink操作时, 虽然堆中的节点数并没有发生改变, 但sink操作的时间会比对根节点进行sink操作短很多. 因此我们可以得出一个更好更紧密的上界. \n",
    "\n",
    "通过观察我们知道$n$个节点的堆的高度为$log n$, 且高度正好为$h$的节点数至多有${n \\over 2^{h+1}}$个. 而高度为$h$的树, 对其根节点进行sink操作的复杂度为$O(h)$, 所以我们可以将build-heap的复杂度表示为\n",
    "$$\n",
    "O\\Big(\\sum_{h=0}^{logn} {n \\over 2^{h+1}} O(h) \\Big) = O\\Big( n \\sum_{h=0}^{logn} {h \\over 2^{h+1}} \\Big)\n",
    "$$\n",
    "\n",
    "令$k=logn, S=\\sum_{h=0}^{k} {h \\over 2^{h+1}}$, 则$2S=\\sum_{h=0}^{k} {h \\over 2^{h}}$.\n",
    "\n",
    "$2S-S=({1\\over2}+{2\\over4}+{3\\over8}+...+{k\\over2^k}) - ({1\\over4}+{2\\over8}+...+{{i-1}\\over2^i} + {i\\over2^{i+1}})$\n",
    "\n",
    "$S={1\\over2} + {1\\over4} + {1\\over8} + ... + {1\\over2^i} - {i\\over2^{i+1}}$\n",
    "\n",
    "显而易见, \n",
    "$$S \\lt 1 - {i\\over2^{i+1}} \\lt 1$$\n",
    "\n",
    "所以$O\\Big( n \\sum_{h=0}^{logn} {h \\over 2^{h+1}} \\Big)=O(n \\times S)=O(n)$, 即build-heap的复杂度其实为$ O(n)$, 牛逼得抠脚!"
   ]
  },
  {
   "cell_type": "markdown",
   "metadata": {},
   "source": [
    "### The MIGHTY heapsort algorithm\n",
    "\n",
    "接下来就是堆排序的主体部分了. 用自然语言描述堆排序的过程为:\n",
    "\n",
    "1. 对输入序列$A[1...n]$建堆 (build-heap操作).\n",
    "2. 由于最大堆的定义是最大的值在根节点, 所以我们将$A[1]$与$A[n]$交换位置, 并将堆的大小-1.\n",
    "3. 下沉$A[1]$, 因为此时$A[1]$是从最后直接上来的, 并不一定满足堆的性质.\n",
    "4. 重复2, 3步骤, 直到堆中剩余元素为2.\n",
    "\n",
    "经过上述过程之后的原序列$A[1...n]$即为排序后的序列, 也就是说, 堆排序是不额外消耗空间的.\n",
    "\n",
    "图示过程:\n",
    "\n",
    "![堆排序](https://ethanstorage.oss-cn-hangzhou.aliyuncs.com/heapsort.jpeg?Expires=1526459665&OSSAccessKeyId=LTAIDJBobPyq7D2H&Signature=8R%2BAmCTtuB9IZLsl5gI4hp3somc%3D)\n",
    "\n",
    "上代码:"
   ]
  },
  {
   "cell_type": "code",
   "execution_count": 31,
   "metadata": {},
   "outputs": [
    {
     "name": "stdout",
     "output_type": "stream",
     "text": [
      "[1, 2, 3, 4, 7, 8, 9, 10, 14, 16]\n"
     ]
    }
   ],
   "source": [
    "def heapsort(array):\n",
    "    # 在数组前添加一个占位符, 使得真正的数组从1开始\n",
    "    array.insert(0, 0)\n",
    "    \n",
    "    # 建堆\n",
    "    build_heap(array)\n",
    "    heap_size = len(array) - 1\n",
    "    \n",
    "    # 从当前堆的最后一个叶节点开始与array[1]交换, 并将交换后的节点排除在堆之外\n",
    "    # 最后下沉array[1]\n",
    "    for i in range(len(array)-1, 1, -1):\n",
    "        array[1], array[i] = array[i], array[1]\n",
    "        heap_size -= 1\n",
    "        sink(array, 1, heap_size)\n",
    "    \n",
    "    # 将最开始的占位符删掉\n",
    "    array.pop(0)\n",
    "\n",
    "\n",
    "a = [16, 1, 10, 8, 7, 9, 3, 2, 4, 14]\n",
    "heapsort(a)\n",
    "print(a)"
   ]
  },
  {
   "cell_type": "markdown",
   "metadata": {},
   "source": [
    "#### 时间复杂度分析\n",
    "\n",
    "建堆需要$O(n)$的时间, 每次循环内的下沉需要$O(log n)$的时间, 循环n-1次, 所以复杂度为$O(n + n log n)=O(nlogn)$"
   ]
  },
  {
   "cell_type": "markdown",
   "metadata": {},
   "source": [
    "## 快速排序"
   ]
  },
  {
   "cell_type": "code",
   "execution_count": null,
   "metadata": {},
   "outputs": [],
   "source": []
  }
 ],
 "metadata": {
  "colab": {
   "default_view": {},
   "name": "lecture1.ipynb",
   "provenance": [],
   "version": "0.3.2",
   "views": {}
  },
  "kernelspec": {
   "display_name": "Python 3",
   "language": "python",
   "name": "python3"
  },
  "language_info": {
   "codemirror_mode": {
    "name": "ipython",
    "version": 3
   },
   "file_extension": ".py",
   "mimetype": "text/x-python",
   "name": "python",
   "nbconvert_exporter": "python",
   "pygments_lexer": "ipython3",
   "version": "3.6.4"
  }
 },
 "nbformat": 4,
 "nbformat_minor": 1
}
